{
  "nbformat": 4,
  "nbformat_minor": 0,
  "metadata": {
    "colab": {
      "name": "laboratory_work_1.ipynb",
      "provenance": [],
      "collapsed_sections": [],
      "toc_visible": true
    },
    "kernelspec": {
      "name": "python3",
      "display_name": "Python 3"
    }
  },
  "cells": [
    {
      "cell_type": "markdown",
      "metadata": {
        "id": "4vJ7i-u-z2us"
      },
      "source": [
        "# Лабораторная работа №1"
      ]
    },
    {
      "cell_type": "markdown",
      "metadata": {
        "id": "AHiDXhwDpdCG"
      },
      "source": [
        "## Вариант 44\n",
        "\n",
        "![Screenshot 2020-10-03 at 7.07.47 PM.png](data:image/png;base64,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)"
      ]
    },
    {
      "cell_type": "markdown",
      "metadata": {
        "id": "JN7GyZJ09tso"
      },
      "source": [
        "## Импорты"
      ]
    },
    {
      "cell_type": "code",
      "metadata": {
        "id": "bGSNlKKWSIiN"
      },
      "source": [
        "%%capture\n",
        "# Установка необходимых модулей\n",
        "!pip install --upgrade pip setuptools wheel\n",
        "!pip install numpy\n",
        "!pip install pandas\n",
        "!pip install matplotlib\n",
        "!pip install seaborn\n",
        "!pip install tabulate"
      ],
      "execution_count": 1,
      "outputs": []
    },
    {
      "cell_type": "code",
      "metadata": {
        "id": "J9hzhs7w9vd2"
      },
      "source": [
        "%%capture\n",
        "import numpy as np;\n",
        "import pandas as pd;\n",
        "\n",
        "import matplotlib.pyplot as plt;\n",
        "import seaborn as sns;\n",
        "sns.set_style(\"whitegrid\");\n",
        "\n",
        "import typing;\n",
        "from dataclasses import dataclass;\n",
        "import abc;"
      ],
      "execution_count": 2,
      "outputs": []
    },
    {
      "cell_type": "markdown",
      "metadata": {
        "id": "ggBIhTedDWRi"
      },
      "source": [
        "## Вспомогательные функции"
      ]
    },
    {
      "cell_type": "code",
      "metadata": {
        "id": "IdXKtNYnVBJO"
      },
      "source": [
        "@dataclass\n",
        "class LineSegment(object):\n",
        "    left_border: float\n",
        "    right_border: float\n",
        "\n",
        "    @property\n",
        "    def middle(self):\n",
        "        return np.mean([self.left_border, self.right_border])\n",
        "\n",
        "    def __str__(self):\n",
        "        left_border_format = ('%f' % self.left_border).rstrip('0').rstrip('.')\n",
        "        right_border_format = ('%f' % self.right_border).rstrip('0').rstrip('.')\n",
        "        return f\"[{left_border_format}, {right_border_format}]\""
      ],
      "execution_count": 3,
      "outputs": []
    },
    {
      "cell_type": "code",
      "metadata": {
        "id": "FKSPXgQQDaQ7"
      },
      "source": [
        "def draw_func(function: typing.Callable[[float], float], segment: LineSegment, interval: float):\n",
        "    x_ = np.arange(segment.left_border, segment.right_border, interval)\n",
        "\n",
        "    df = pd.DataFrame([[x, function(x)] for x in x_], columns=[\"x\", \"y\"]) \n",
        "    main_axes = pd.DataFrame(([[x, 0] \n",
        "                               for x in np.arange(segment.left_border, \n",
        "                                                  segment.right_border+1)]), \n",
        "                             columns=[\"x\", \"y\"])\n",
        "\n",
        "    plt.figure(figsize=(20,10))\n",
        "    plt.tight_layout()\n",
        "    sns.lineplot(data = df, x='x', y='y', color=\"red\")\n",
        "    sns.lineplot(data = main_axes, x='x', y='y', color=\"black\")\n",
        "\n",
        "    plt.savefig(\"./function_graph.png\", dpi=300)\n",
        "\n",
        "    plt.show()"
      ],
      "execution_count": 4,
      "outputs": []
    },
    {
      "cell_type": "markdown",
      "metadata": {
        "id": "4JptexLm9n_1"
      },
      "source": [
        "## Алгоритмы"
      ]
    },
    {
      "cell_type": "code",
      "metadata": {
        "id": "RNwdl7q2-lA8"
      },
      "source": [
        "def func_A(x: float):\n",
        "    return (2*x)/(x**2 + 1)\n",
        "\n",
        "def func_B(x: float):\n",
        "    return np.pi/2 - np.arctan(x);\n",
        "\n",
        "def func(x: float):\n",
        "    return func_A(x) - func_B(x);\n",
        "\n",
        "def derivative_func(x: float):\n",
        "    func_A_derivative = -2 * (x**2 - 1)/( (x**2 + 1)**2 )\n",
        "    func_B_derivative = -1/(x**2 + 1);\n",
        "    return func_A_derivative - func_B_derivative;"
      ],
      "execution_count": 5,
      "outputs": []
    },
    {
      "cell_type": "code",
      "metadata": {
        "id": "DuzxAL-RiMwp"
      },
      "source": [
        "class Method(abc.ABC):\n",
        "    def __init__(self, method: str, method_name: str,\n",
        "                 function: typing.Callable[[float], float],\n",
        "                 segment: LineSegment,\n",
        "                 epsilons: typing.List[float]\n",
        "                 ):\n",
        "        self.method = method\n",
        "        self.method_name = method_name\n",
        "        self.function = function\n",
        "        self.segment = segment\n",
        "        if not isinstance(epsilons, list):\n",
        "            epsilons = list(epsilons)\n",
        "        self.epsilons = epsilons\n",
        "    \n",
        "    @property\n",
        "    @abc.abstractmethod\n",
        "    def dataframe(self) -> pd.DataFrame:\n",
        "        pass\n",
        "\n",
        "    @abc.abstractmethod\n",
        "    def solve(self, epsilon: float) -> typing.Tuple[float, pd.DataFrame]:\n",
        "        pass\n",
        "\n",
        "    @staticmethod\n",
        "    def get_round_base(epsilon: float):\n",
        "        return abs(round(np.math.log(epsilon, 10)))\n",
        "\n",
        "    def find_solution(self):\n",
        "        for index, epsilon in enumerate(self.epsilons):\n",
        "            if index != 0:\n",
        "                print(\"\\n#{0:-^78}#\\n\".format(\"-\"))\n",
        "            result, df = self.solve(epsilon)\n",
        "            self.print_dataframe(result, df, epsilon)\n",
        "\n",
        "    def print_dataframe(self, result: float, df: pd.DataFrame, epsilon: float):\n",
        "        df.index = df.index + 1\n",
        "\n",
        "        print(f\"{self.method_name} на отрезке {self.segment} с точностью до {epsilon}:\")\n",
        "\n",
        "        print()\n",
        "        print(f\"x = {round(result, self.get_round_base(epsilon)+1)}\", \n",
        "              f\"iterations = {len(df)}\", sep=\"\\t\")\n",
        "        print()\n",
        "\n",
        "        with pd.option_context('display.max_rows', None, \n",
        "                               'display.max_columns', None): \n",
        "            print(df.to_markdown(tablefmt=\"grid\", numalign=\"center\"))\n",
        "            df.to_excel(f\"./lab1_{self.method}_{epsilon}.xlsx\")"
      ],
      "execution_count": 6,
      "outputs": []
    },
    {
      "cell_type": "code",
      "metadata": {
        "id": "SkYAbbKtlQ_1"
      },
      "source": [
        "class BisectionMethod(Method):\n",
        "    def __init__(self, function: typing.Callable[[float], float],\n",
        "                 segment: LineSegment,\n",
        "                 epsilons: typing.List[float]):\n",
        "        super().__init__(method=\"bisection\", method_name=\"Метод бисекции\",\n",
        "                         function=function, segment=segment, epsilons=epsilons)\n",
        "\n",
        "    @property\n",
        "    def dataframe(self) -> pd.DataFrame:\n",
        "        return pd.DataFrame(columns=['X_left', 'f(X_left)',\n",
        "                                     'X_right', 'f(X_right)', '∆'])\n",
        "\n",
        "    def solve(self, epsilon: float) -> typing.Tuple[float, pd.DataFrame]:\n",
        "        df = self.dataframe\n",
        "\n",
        "        (x1, x2) = (self.segment.left_border, self.segment.right_border)\n",
        "        f1 = self.function(x1)\n",
        "        f2 = self.function(x2)\n",
        "        del_x = abs(x2 - x1)\n",
        "        round_base = self.get_round_base(epsilon)\n",
        "\n",
        "        middle = 0\n",
        "        while del_x > epsilon:\n",
        "            df.loc[len(df)] = (list(map(lambda x: \n",
        "                                        round(x, round_base+1), \n",
        "                                        [x1, f1, x2, f2, del_x])))\n",
        "            middle = (x2+x1)/2\n",
        "            f_middle = self.function(middle)\n",
        "            if f_middle * f1 < 0:\n",
        "                x2 = middle\n",
        "                f2 = f_middle\n",
        "            else:\n",
        "                x1 = middle\n",
        "                f1 = f_middle\n",
        "            del_x = abs(x2-x1)\n",
        "            \n",
        "        df.loc[len(df)] = (list(map(lambda x: \n",
        "                                    round(x, round_base+1), \n",
        "                                    [x1, f1, x2, f2, del_x])))\n",
        "        result = middle\n",
        "        return (result, df)"
      ],
      "execution_count": 7,
      "outputs": []
    },
    {
      "cell_type": "code",
      "metadata": {
        "id": "69EurPEAqU72"
      },
      "source": [
        "class SecantMethod(Method):\n",
        "    def __init__(self, function: typing.Callable[[float], float],\n",
        "                 segment: LineSegment,\n",
        "                 epsilons: typing.List[float]):\n",
        "        super().__init__(method=\"secant\", method_name=\"Метод секущих\",\n",
        "                         function=function, segment=segment, epsilons=epsilons)\n",
        "\n",
        "    @property\n",
        "    def dataframe(self) -> pd.DataFrame:\n",
        "        return pd.DataFrame(columns=['X_left', 'f(X_left)',\n",
        "                                     'X_right', 'f(X_right)', '∆'])\n",
        "\n",
        "    def solve(self, epsilon: float) -> typing.Tuple[float, pd.DataFrame]:\n",
        "        df = self.dataframe\n",
        "\n",
        "        (x1, x2) = (self.segment.left_border, self.segment.right_border)\n",
        "        f1 = self.function(x1)\n",
        "        f2 = self.function(x2)\n",
        "        del_x = abs(x2 - x1)\n",
        "        round_base = self.get_round_base(epsilon)\n",
        "\n",
        "        middle = 0\n",
        "        while del_x > epsilon:\n",
        "            df.loc[len(df)] = (list(map(lambda x: round(x, round_base+1), \n",
        "                                        [x1, f1, x2, f2, del_x])))\n",
        "            middle = x2 * f1/(f1-f2) + x1 * f2/(f2-f1)\n",
        "            f_middle = self.function(middle)\n",
        "            x1 = x2\n",
        "            f1 = f2\n",
        "            x2 = middle\n",
        "            f2 = f_middle\n",
        "            del_x = abs(x2-x1)\n",
        "\n",
        "        df.loc[len(df)] = (list(map(lambda x: \n",
        "                                    round(x, round_base+1),\n",
        "                                    [x1, f1, x2, f2, del_x])))\n",
        "                \n",
        "        result = middle\n",
        "        return (result, df)"
      ],
      "execution_count": 8,
      "outputs": []
    },
    {
      "cell_type": "code",
      "metadata": {
        "id": "RIbCjYnGtnYZ"
      },
      "source": [
        "class FalsePositionMethod(Method):\n",
        "    def __init__(self, function: typing.Callable[[float], float],\n",
        "                 segment: LineSegment,\n",
        "                 epsilons: typing.List[float]):\n",
        "        super().__init__(method=\"false_position\", \n",
        "                         method_name=\"Метод ложной позиции\",\n",
        "                         function=function, segment=segment, epsilons=epsilons)\n",
        "\n",
        "    @property\n",
        "    def dataframe(self) -> pd.DataFrame:\n",
        "        return pd.DataFrame(columns=['X_left', 'f(X_left)',\n",
        "                                     'X_right', 'f(X_right)', '∆'])\n",
        "\n",
        "    def solve(self, epsilon: float) -> typing.Tuple[float, pd.DataFrame]:\n",
        "        df = self.dataframe\n",
        "\n",
        "        (x1, x2) = (self.segment.left_border, self.segment.right_border)\n",
        "        f1 = self.function(x1)\n",
        "        f2 = self.function(x2)\n",
        "        del_x = abs(x2 - x1)\n",
        "        round_base = self.get_round_base(epsilon)\n",
        "\n",
        "        middle = 0\n",
        "        while del_x > epsilon:\n",
        "            df.loc[len(df)] = (list(map(lambda x: round(x, round_base+1), \n",
        "                                        [x1, f1, x2, f2, del_x])))\n",
        "            middle = x2 * f1/(f1-f2) + x1 * f2/(f2-f1)\n",
        "            f_middle = self.function(middle)\n",
        "            if f_middle * f1 > 0:\n",
        "                del_x = middle - x1\n",
        "                x1 = middle\n",
        "                f1 = f_middle\n",
        "            else:\n",
        "                del_x = x2- middle\n",
        "                x2 = middle\n",
        "                f2 = f_middle\n",
        "                \n",
        "        df.loc[len(df)] = (list(map(lambda x: \n",
        "                                    round(x, round_base+1), \n",
        "                                    [x1, f1, x2, f2, del_x])))\n",
        "                \n",
        "        result = middle\n",
        "        return (result, df)"
      ],
      "execution_count": 9,
      "outputs": []
    },
    {
      "cell_type": "code",
      "metadata": {
        "id": "LMlPoqQEw6D2"
      },
      "source": [
        "class NewtonMethod(Method):\n",
        "    def __init__(self, \n",
        "                 function: typing.Callable[[float], float],\n",
        "                 derivative_function: typing.Callable[[float], float],\n",
        "                 segment: LineSegment, \n",
        "                 epsilons: typing.List[float]\n",
        "                 ):\n",
        "        super().__init__(method=\"newton\", method_name=\"Метод Ньютона\", \n",
        "                         function=function, segment=segment, epsilons=epsilons)\n",
        "        self.derivative_function = derivative_function\n",
        "\n",
        "    @property\n",
        "    def dataframe(self) -> pd.DataFrame:\n",
        "        return pd.DataFrame(columns=['X', 'F', \"df\", '∆'])\n",
        "\n",
        "    def solve(self, epsilon: float) -> typing.Tuple[float, pd.DataFrame]:\n",
        "        df = self.dataframe\n",
        "\n",
        "        x = self.segment.middle\n",
        "        del_x = epsilon*2\n",
        "        f1 = self.function(x)\n",
        "        df1 = self.derivative_function(x)\n",
        "        round_base = self.get_round_base(epsilon)\n",
        "        df.loc[len(df)] = (list(map(lambda k: round(k, round_base+1), \n",
        "                                        [x, f1, df1, 0])))\n",
        "\n",
        "        iter_array = []\n",
        "        while del_x > epsilon:\n",
        "            f1 = self.function(x)\n",
        "            df1 = self.derivative_function(x)\n",
        "            x_ = x - f1/df1\n",
        "            del_x = abs(x_-x)\n",
        "            x = x_\n",
        "            df.loc[len(df)] = (list(map(lambda k: round(k, round_base+1), \n",
        "                                        [x, f1, df1, del_x])))\n",
        "            \n",
        "        result = x\n",
        "        return (result, df)\n",
        "\n",
        "    def print_dataframe(self, result: float, df: pd.DataFrame, epsilon: float):\n",
        "        print(f\"{self.method_name} в первоначальной точке {self.segment.middle} с точностью до {epsilon}:\")\n",
        "\n",
        "        print()\n",
        "        print(f\"x = {round(result, self.get_round_base(epsilon)+1)}\", \n",
        "              f\"iterations = {len(df)-1}\", sep=\"\\t\")\n",
        "        print()\n",
        "\n",
        "        with pd.option_context('display.max_rows', None, \n",
        "                               'display.max_columns', None): \n",
        "            print(df.to_markdown(tablefmt=\"grid\", numalign=\"center\"))\n",
        "            df.to_excel(f\"./lab1_{self.method}_{epsilon}.xlsx\")"
      ],
      "execution_count": 10,
      "outputs": []
    },
    {
      "cell_type": "markdown",
      "metadata": {
        "id": "FdfZN7XWEAS9"
      },
      "source": [
        "## Выполнение лабораторной работы"
      ]
    },
    {
      "cell_type": "markdown",
      "metadata": {
        "id": "v0uLk5Q3pPNu"
      },
      "source": [
        "### Исследование функции"
      ]
    },
    {
      "cell_type": "code",
      "metadata": {
        "id": "-6eR4jbCMfsN"
      },
      "source": [
        "# Точности по перменной\n",
        "epsilon = [0.01, 0.001, 0.0001]"
      ],
      "execution_count": 11,
      "outputs": []
    },
    {
      "cell_type": "code",
      "metadata": {
        "id": "Um2lKA1gThDd"
      },
      "source": [
        "# Выбираем отрезок [0, 1]\n",
        "segment = LineSegment(0, 1)"
      ],
      "execution_count": 12,
      "outputs": []
    },
    {
      "cell_type": "code",
      "metadata": {
        "id": "W_8BkOgpD-RK",
        "outputId": "f2416377-552f-4efb-be25-96a56e9a1649",
        "colab": {
          "base_uri": "https://localhost:8080/",
          "height": 330
        }
      },
      "source": [
        "# Нарисуем график функции на отрезке [0, 1]\n",
        "draw_func(function=func, segment=segment, interval=0.0001)"
      ],
      "execution_count": 19,
      "outputs": [
        {
          "output_type": "display_data",
          "data": {
            "image/png": "[encoded data removed]",
            "text/plain": [
              "<Figure size 1440x720 with 1 Axes>"
            ]
          },
          "metadata": {
            "tags": []
          }
        }
      ]
    },
    {
      "cell_type": "markdown",
      "metadata": {
        "id": "nCjgPOg4LkPE"
      },
      "source": [
        "### 1. Метод бисекции"
      ]
    },
    {
      "cell_type": "code",
      "metadata": {
        "id": "IssARzlgITt6",
        "outputId": "0f0c287f-bf9b-4e64-d09e-db60c503f859",
        "colab": {
          "base_uri": "https://localhost:8080/",
          "height": 1000
        }
      },
      "source": [
        "bisection_method = BisectionMethod(func, segment, epsilon)\n",
        "bisection_method.find_solution()"
      ],
      "execution_count": 14,
      "outputs": [
        {
          "output_type": "stream",
          "text": [
            "Метод бисекции на отрезке [0, 1] с точностью до 0.01:\n",
            "\n",
            "x = 0.711\titerations = 8\n",
            "\n",
            "+----+----------+-------------+-----------+--------------+-------+\n",
            "|    |  X_left  |  f(X_left)  |  X_right  |  f(X_right)  |   ∆   |\n",
            "+====+==========+=============+===========+==============+=======+\n",
            "| 1  |    0     |   -1.571    |     1     |    0.215     |   1   |\n",
            "+----+----------+-------------+-----------+--------------+-------+\n",
            "| 2  |   0.5    |   -0.307    |     1     |    0.215     |  0.5  |\n",
            "+----+----------+-------------+-----------+--------------+-------+\n",
            "| 3  |   0.5    |   -0.307    |   0.75    |    0.033     | 0.25  |\n",
            "+----+----------+-------------+-----------+--------------+-------+\n",
            "| 4  |  0.625   |   -0.113    |   0.75    |    0.033     | 0.125 |\n",
            "+----+----------+-------------+-----------+--------------+-------+\n",
            "| 5  |  0.688   |   -0.035    |   0.75    |    0.033     | 0.062 |\n",
            "+----+----------+-------------+-----------+--------------+-------+\n",
            "| 6  |  0.688   |   -0.035    |   0.719   |      0       | 0.031 |\n",
            "+----+----------+-------------+-----------+--------------+-------+\n",
            "| 7  |  0.703   |   -0.017    |   0.719   |      0       | 0.016 |\n",
            "+----+----------+-------------+-----------+--------------+-------+\n",
            "| 8  |  0.711   |   -0.008    |   0.719   |      0       | 0.008 |\n",
            "+----+----------+-------------+-----------+--------------+-------+\n",
            "\n",
            "#------------------------------------------------------------------------------#\n",
            "\n",
            "Метод бисекции на отрезке [0, 1] с точностью до 0.001:\n",
            "\n",
            "x = 0.7178\titerations = 11\n",
            "\n",
            "+----+----------+-------------+-----------+--------------+--------+\n",
            "|    |  X_left  |  f(X_left)  |  X_right  |  f(X_right)  |   ∆    |\n",
            "+====+==========+=============+===========+==============+========+\n",
            "| 1  |    0     |   -1.5708   |     1     |    0.2146    |   1    |\n",
            "+----+----------+-------------+-----------+--------------+--------+\n",
            "| 2  |   0.5    |   -0.3071   |     1     |    0.2146    |  0.5   |\n",
            "+----+----------+-------------+-----------+--------------+--------+\n",
            "| 3  |   0.5    |   -0.3071   |   0.75    |    0.0327    |  0.25  |\n",
            "+----+----------+-------------+-----------+--------------+--------+\n",
            "| 4  |  0.625   |   -0.1133   |   0.75    |    0.0327    | 0.125  |\n",
            "+----+----------+-------------+-----------+--------------+--------+\n",
            "| 5  |  0.6875  |   -0.0348   |   0.75    |    0.0327    | 0.0625 |\n",
            "+----+----------+-------------+-----------+--------------+--------+\n",
            "| 6  |  0.6875  |   -0.0348   |  0.7188   |    0.0002    | 0.0312 |\n",
            "+----+----------+-------------+-----------+--------------+--------+\n",
            "| 7  |  0.7031  |   -0.017    |  0.7188   |    0.0002    | 0.0156 |\n",
            "+----+----------+-------------+-----------+--------------+--------+\n",
            "| 8  |  0.7109  |   -0.0083   |  0.7188   |    0.0002    | 0.0078 |\n",
            "+----+----------+-------------+-----------+--------------+--------+\n",
            "| 9  |  0.7148  |   -0.004    |  0.7188   |    0.0002    | 0.0039 |\n",
            "+----+----------+-------------+-----------+--------------+--------+\n",
            "| 10 |  0.7168  |   -0.0019   |  0.7188   |    0.0002    | 0.002  |\n",
            "+----+----------+-------------+-----------+--------------+--------+\n",
            "| 11 |  0.7178  |   -0.0008   |  0.7188   |    0.0002    | 0.001  |\n",
            "+----+----------+-------------+-----------+--------------+--------+\n",
            "\n",
            "#------------------------------------------------------------------------------#\n",
            "\n",
            "Метод бисекции на отрезке [0, 1] с точностью до 0.0001:\n",
            "\n",
            "x = 0.71857\titerations = 15\n",
            "\n",
            "+----+----------+-------------+-----------+--------------+---------+\n",
            "|    |  X_left  |  f(X_left)  |  X_right  |  f(X_right)  |    ∆    |\n",
            "+====+==========+=============+===========+==============+=========+\n",
            "| 1  |    0     |   -1.5708   |     1     |    0.2146    |    1    |\n",
            "+----+----------+-------------+-----------+--------------+---------+\n",
            "| 2  |   0.5    |  -0.30715   |     1     |    0.2146    |   0.5   |\n",
            "+----+----------+-------------+-----------+--------------+---------+\n",
            "| 3  |   0.5    |  -0.30715   |   0.75    |    0.0327    |  0.25   |\n",
            "+----+----------+-------------+-----------+--------------+---------+\n",
            "| 4  |  0.625   |  -0.11332   |   0.75    |    0.0327    |  0.125  |\n",
            "+----+----------+-------------+-----------+--------------+---------+\n",
            "| 5  |  0.6875  |  -0.03482   |   0.75    |    0.0327    | 0.0625  |\n",
            "+----+----------+-------------+-----------+--------------+---------+\n",
            "| 6  |  0.6875  |  -0.03482   |  0.71875  |   0.00025    | 0.03125 |\n",
            "+----+----------+-------------+-----------+--------------+---------+\n",
            "| 7  | 0.70312  |  -0.01695   |  0.71875  |   0.00025    | 0.01562 |\n",
            "+----+----------+-------------+-----------+--------------+---------+\n",
            "| 8  | 0.71094  |  -0.00827   |  0.71875  |   0.00025    | 0.00781 |\n",
            "+----+----------+-------------+-----------+--------------+---------+\n",
            "| 9  | 0.71484  |  -0.00399   |  0.71875  |   0.00025    | 0.00391 |\n",
            "+----+----------+-------------+-----------+--------------+---------+\n",
            "| 10 |  0.7168  |  -0.00187   |  0.71875  |   0.00025    | 0.00195 |\n",
            "+----+----------+-------------+-----------+--------------+---------+\n",
            "| 11 | 0.71777  |  -0.00081   |  0.71875  |   0.00025    | 0.00098 |\n",
            "+----+----------+-------------+-----------+--------------+---------+\n",
            "| 12 | 0.71826  |  -0.00028   |  0.71875  |   0.00025    | 0.00049 |\n",
            "+----+----------+-------------+-----------+--------------+---------+\n",
            "| 13 | 0.71851  |   -2e-05    |  0.71875  |   0.00025    | 0.00024 |\n",
            "+----+----------+-------------+-----------+--------------+---------+\n",
            "| 14 | 0.71851  |   -2e-05    |  0.71863  |   0.00011    | 0.00012 |\n",
            "+----+----------+-------------+-----------+--------------+---------+\n",
            "| 15 | 0.71851  |   -2e-05    |  0.71857  |    5e-05     |  6e-05  |\n",
            "+----+----------+-------------+-----------+--------------+---------+\n"
          ],
          "name": "stdout"
        }
      ]
    },
    {
      "cell_type": "markdown",
      "metadata": {
        "id": "KMQeOunKQyD7"
      },
      "source": [
        "### 2. Метод секущих"
      ]
    },
    {
      "cell_type": "code",
      "metadata": {
        "id": "3MWf944Phs0i",
        "outputId": "8a6f851d-77e2-4534-f7d5-3fe803c787c2",
        "colab": {
          "base_uri": "https://localhost:8080/",
          "height": 1000
        }
      },
      "source": [
        "secant_method = SecantMethod(func, segment, epsilon)\n",
        "secant_method.find_solution()"
      ],
      "execution_count": 15,
      "outputs": [
        {
          "output_type": "stream",
          "text": [
            "Метод секущих на отрезке [0, 1] с точностью до 0.01:\n",
            "\n",
            "x = 0.718\titerations = 6\n",
            "\n",
            "+----+----------+-------------+-----------+--------------+-------+\n",
            "|    |  X_left  |  f(X_left)  |  X_right  |  f(X_right)  |   ∆   |\n",
            "+====+==========+=============+===========+==============+=======+\n",
            "| 1  |    0     |   -1.571    |     1     |    0.215     |   1   |\n",
            "+----+----------+-------------+-----------+--------------+-------+\n",
            "| 2  |    1     |    0.215    |   0.88    |    0.143     | 0.12  |\n",
            "+----+----------+-------------+-----------+--------------+-------+\n",
            "| 3  |   0.88   |    0.143    |   0.642   |    -0.091    | 0.238 |\n",
            "+----+----------+-------------+-----------+--------------+-------+\n",
            "| 4  |  0.642   |   -0.091    |   0.735   |    0.017     | 0.093 |\n",
            "+----+----------+-------------+-----------+--------------+-------+\n",
            "| 5  |  0.735   |    0.017    |   0.72    |    0.002     | 0.015 |\n",
            "+----+----------+-------------+-----------+--------------+-------+\n",
            "| 6  |   0.72   |    0.002    |   0.718   |      -0      | 0.001 |\n",
            "+----+----------+-------------+-----------+--------------+-------+\n",
            "\n",
            "#------------------------------------------------------------------------------#\n",
            "\n",
            "Метод секущих на отрезке [0, 1] с точностью до 0.001:\n",
            "\n",
            "x = 0.7185\titerations = 7\n",
            "\n",
            "+----+----------+-------------+-----------+--------------+--------+\n",
            "|    |  X_left  |  f(X_left)  |  X_right  |  f(X_right)  |   ∆    |\n",
            "+====+==========+=============+===========+==============+========+\n",
            "| 1  |    0     |   -1.5708   |     1     |    0.2146    |   1    |\n",
            "+----+----------+-------------+-----------+--------------+--------+\n",
            "| 2  |    1     |   0.2146    |  0.8798   |    0.1426    | 0.1202 |\n",
            "+----+----------+-------------+-----------+--------------+--------+\n",
            "| 3  |  0.8798  |   0.1426    |  0.6417   |   -0.0912    | 0.2381 |\n",
            "+----+----------+-------------+-----------+--------------+--------+\n",
            "| 4  |  0.6417  |   -0.0912   |  0.7346   |    0.017     | 0.0928 |\n",
            "+----+----------+-------------+-----------+--------------+--------+\n",
            "| 5  |  0.7346  |    0.017    |   0.72    |    0.0016    | 0.0146 |\n",
            "+----+----------+-------------+-----------+--------------+--------+\n",
            "| 6  |   0.72   |   0.0016    |  0.7185   |      -0      | 0.0015 |\n",
            "+----+----------+-------------+-----------+--------------+--------+\n",
            "| 7  |  0.7185  |     -0      |  0.7185   |      0       |   0    |\n",
            "+----+----------+-------------+-----------+--------------+--------+\n",
            "\n",
            "#------------------------------------------------------------------------------#\n",
            "\n",
            "Метод секущих на отрезке [0, 1] с точностью до 0.0001:\n",
            "\n",
            "x = 0.71852\titerations = 7\n",
            "\n",
            "+----+----------+-------------+-----------+--------------+---------+\n",
            "|    |  X_left  |  f(X_left)  |  X_right  |  f(X_right)  |    ∆    |\n",
            "+====+==========+=============+===========+==============+=========+\n",
            "| 1  |    0     |   -1.5708   |     1     |    0.2146    |    1    |\n",
            "+----+----------+-------------+-----------+--------------+---------+\n",
            "| 2  |    1     |   0.2146    |  0.8798   |    0.1426    | 0.1202  |\n",
            "+----+----------+-------------+-----------+--------------+---------+\n",
            "| 3  |  0.8798  |   0.1426    |  0.64173  |   -0.09117   | 0.23807 |\n",
            "+----+----------+-------------+-----------+--------------+---------+\n",
            "| 4  | 0.64173  |  -0.09117   |  0.73458  |    0.017     | 0.09284 |\n",
            "+----+----------+-------------+-----------+--------------+---------+\n",
            "| 5  | 0.73458  |    0.017    |  0.71998  |   0.00158    | 0.01459 |\n",
            "+----+----------+-------------+-----------+--------------+---------+\n",
            "| 6  | 0.71998  |   0.00158   |  0.71849  |    -3e-05    | 0.00149 |\n",
            "+----+----------+-------------+-----------+--------------+---------+\n",
            "| 7  | 0.71849  |   -3e-05    |  0.71852  |      0       |  3e-05  |\n",
            "+----+----------+-------------+-----------+--------------+---------+\n"
          ],
          "name": "stdout"
        }
      ]
    },
    {
      "cell_type": "markdown",
      "metadata": {
        "id": "EnpsUpY_Q_tj"
      },
      "source": [
        "### 3. Метод ложной позиции"
      ]
    },
    {
      "cell_type": "code",
      "metadata": {
        "id": "Bu6ZX5uihxlt",
        "outputId": "3a9fc732-da9d-4f1a-8266-363e07e6951c",
        "colab": {
          "base_uri": "https://localhost:8080/",
          "height": 1000
        }
      },
      "source": [
        "false_position_method = FalsePositionMethod(func, segment, epsilon)\n",
        "false_position_method.find_solution()"
      ],
      "execution_count": 16,
      "outputs": [
        {
          "output_type": "stream",
          "text": [
            "Метод ложной позиции на отрезке [0, 1] с точностью до 0.01:\n",
            "\n",
            "x = 0.725\titerations = 7\n",
            "\n",
            "+----+----------+-------------+-----------+--------------+-------+\n",
            "|    |  X_left  |  f(X_left)  |  X_right  |  f(X_right)  |   ∆   |\n",
            "+====+==========+=============+===========+==============+=======+\n",
            "| 1  |    0     |   -1.571    |     1     |    0.215     |   1   |\n",
            "+----+----------+-------------+-----------+--------------+-------+\n",
            "| 2  |    0     |   -1.571    |   0.88    |    0.143     | 0.12  |\n",
            "+----+----------+-------------+-----------+--------------+-------+\n",
            "| 3  |    0     |   -1.571    |   0.807   |    0.085     | 0.073 |\n",
            "+----+----------+-------------+-----------+--------------+-------+\n",
            "| 4  |    0     |   -1.571    |   0.765   |    0.047     | 0.042 |\n",
            "+----+----------+-------------+-----------+--------------+-------+\n",
            "| 5  |    0     |   -1.571    |   0.743   |    0.025     | 0.022 |\n",
            "+----+----------+-------------+-----------+--------------+-------+\n",
            "| 6  |    0     |   -1.571    |   0.731   |    0.013     | 0.012 |\n",
            "+----+----------+-------------+-----------+--------------+-------+\n",
            "| 7  |    0     |   -1.571    |   0.725   |    0.007     | 0.006 |\n",
            "+----+----------+-------------+-----------+--------------+-------+\n",
            "\n",
            "#------------------------------------------------------------------------------#\n",
            "\n",
            "Метод ложной позиции на отрезке [0, 1] с точностью до 0.001:\n",
            "\n",
            "x = 0.7193\titerations = 10\n",
            "\n",
            "+----+----------+-------------+-----------+--------------+--------+\n",
            "|    |  X_left  |  f(X_left)  |  X_right  |  f(X_right)  |   ∆    |\n",
            "+====+==========+=============+===========+==============+========+\n",
            "| 1  |    0     |   -1.5708   |     1     |    0.2146    |   1    |\n",
            "+----+----------+-------------+-----------+--------------+--------+\n",
            "| 2  |    0     |   -1.5708   |  0.8798   |    0.1426    | 0.1202 |\n",
            "+----+----------+-------------+-----------+--------------+--------+\n",
            "| 3  |    0     |   -1.5708   |  0.8066   |    0.0853    | 0.0732 |\n",
            "+----+----------+-------------+-----------+--------------+--------+\n",
            "| 4  |    0     |   -1.5708   |   0.765   |    0.0474    | 0.0415 |\n",
            "+----+----------+-------------+-----------+--------------+--------+\n",
            "| 5  |    0     |   -1.5708   |  0.7426   |    0.0253    | 0.0224 |\n",
            "+----+----------+-------------+-----------+--------------+--------+\n",
            "| 6  |    0     |   -1.5708   |  0.7309   |    0.0131    | 0.0118 |\n",
            "+----+----------+-------------+-----------+--------------+--------+\n",
            "| 7  |    0     |   -1.5708   |  0.7248   |    0.0067    | 0.0061 |\n",
            "+----+----------+-------------+-----------+--------------+--------+\n",
            "| 8  |    0     |   -1.5708   |  0.7217   |    0.0034    | 0.0031 |\n",
            "+----+----------+-------------+-----------+--------------+--------+\n",
            "| 9  |    0     |   -1.5708   |  0.7201   |    0.0017    | 0.0016 |\n",
            "+----+----------+-------------+-----------+--------------+--------+\n",
            "| 10 |    0     |   -1.5708   |  0.7193   |    0.0009    | 0.0008 |\n",
            "+----+----------+-------------+-----------+--------------+--------+\n",
            "\n",
            "#------------------------------------------------------------------------------#\n",
            "\n",
            "Метод ложной позиции на отрезке [0, 1] с точностью до 0.0001:\n",
            "\n",
            "x = 0.71858\titerations = 14\n",
            "\n",
            "+----+----------+-------------+-----------+--------------+---------+\n",
            "|    |  X_left  |  f(X_left)  |  X_right  |  f(X_right)  |    ∆    |\n",
            "+====+==========+=============+===========+==============+=========+\n",
            "| 1  |    0     |   -1.5708   |     1     |    0.2146    |    1    |\n",
            "+----+----------+-------------+-----------+--------------+---------+\n",
            "| 2  |    0     |   -1.5708   |  0.8798   |    0.1426    | 0.1202  |\n",
            "+----+----------+-------------+-----------+--------------+---------+\n",
            "| 3  |    0     |   -1.5708   |  0.80658  |   0.08528    | 0.07322 |\n",
            "+----+----------+-------------+-----------+--------------+---------+\n",
            "| 4  |    0     |   -1.5708   |  0.76504  |   0.04744    | 0.04153 |\n",
            "+----+----------+-------------+-----------+--------------+---------+\n",
            "| 5  |    0     |   -1.5708   |  0.74262  |   0.02526    | 0.02243 |\n",
            "+----+----------+-------------+-----------+--------------+---------+\n",
            "| 6  |    0     |   -1.5708   |  0.73086  |   0.01313    | 0.01175 |\n",
            "+----+----------+-------------+-----------+--------------+---------+\n",
            "| 7  |    0     |   -1.5708   |  0.7248   |   0.00673    | 0.00606 |\n",
            "+----+----------+-------------+-----------+--------------+---------+\n",
            "| 8  |    0     |   -1.5708   |  0.72171  |   0.00343    | 0.00309 |\n",
            "+----+----------+-------------+-----------+--------------+---------+\n",
            "| 9  |    0     |   -1.5708   |  0.72014  |   0.00174    | 0.00157 |\n",
            "+----+----------+-------------+-----------+--------------+---------+\n",
            "| 10 |    0     |   -1.5708   |  0.71934  |   0.00088    | 0.0008  |\n",
            "+----+----------+-------------+-----------+--------------+---------+\n",
            "| 11 |    0     |   -1.5708   |  0.71894  |   0.00045    | 0.0004  |\n",
            "+----+----------+-------------+-----------+--------------+---------+\n",
            "| 12 |    0     |   -1.5708   |  0.71873  |   0.00023    | 0.0002  |\n",
            "+----+----------+-------------+-----------+--------------+---------+\n",
            "| 13 |    0     |   -1.5708   |  0.71863  |   0.00011    | 0.0001  |\n",
            "+----+----------+-------------+-----------+--------------+---------+\n",
            "| 14 |    0     |   -1.5708   |  0.71858  |    6e-05     |  5e-05  |\n",
            "+----+----------+-------------+-----------+--------------+---------+\n"
          ],
          "name": "stdout"
        }
      ]
    },
    {
      "cell_type": "markdown",
      "metadata": {
        "id": "Jq1edAgFRKoI"
      },
      "source": [
        "### 4. Метод Ньютона"
      ]
    },
    {
      "cell_type": "code",
      "metadata": {
        "id": "IemfJ9ZNh3F_",
        "outputId": "35db1887-8730-46cb-a4fe-f8835744e88d",
        "colab": {
          "base_uri": "https://localhost:8080/",
          "height": 972
        }
      },
      "source": [
        "newton_method = NewtonMethod(func, derivative_func, segment, epsilon)\n",
        "newton_method.find_solution()"
      ],
      "execution_count": 17,
      "outputs": [
        {
          "output_type": "stream",
          "text": [
            "Метод Ньютона в первоначальной точке 0.5 с точностью до 0.01:\n",
            "\n",
            "x = 0.719\titerations = 3\n",
            "\n",
            "+----+-------+--------+-------+-------+\n",
            "|    |   X   |   F    |  df   |   ∆   |\n",
            "+====+=======+========+=======+=======+\n",
            "| 0  |  0.5  | -0.307 | 1.76  |   0   |\n",
            "+----+-------+--------+-------+-------+\n",
            "| 1  | 0.675 | -0.307 | 1.76  | 0.175 |\n",
            "+----+-------+--------+-------+-------+\n",
            "| 2  | 0.716 | -0.05  | 1.202 | 0.042 |\n",
            "+----+-------+--------+-------+-------+\n",
            "| 3  | 0.719 | -0.002 | 1.086 | 0.002 |\n",
            "+----+-------+--------+-------+-------+\n",
            "\n",
            "#------------------------------------------------------------------------------#\n",
            "\n",
            "Метод Ньютона в первоначальной точке 0.5 с точностью до 0.001:\n",
            "\n",
            "x = 0.7185\titerations = 4\n",
            "\n",
            "+----+--------+---------+--------+--------+\n",
            "|    |   X    |    F    |   df   |   ∆    |\n",
            "+====+========+=========+========+========+\n",
            "| 0  |  0.5   | -0.3071 |  1.76  |   0    |\n",
            "+----+--------+---------+--------+--------+\n",
            "| 1  | 0.6745 | -0.3071 |  1.76  | 0.1745 |\n",
            "+----+--------+---------+--------+--------+\n",
            "| 2  | 0.7163 | -0.0502 | 1.2022 | 0.0417 |\n",
            "+----+--------+---------+--------+--------+\n",
            "| 3  | 0.7185 | -0.0024 | 1.0864 | 0.0023 |\n",
            "+----+--------+---------+--------+--------+\n",
            "| 4  | 0.7185 |   -0    | 1.0803 |   0    |\n",
            "+----+--------+---------+--------+--------+\n",
            "\n",
            "#------------------------------------------------------------------------------#\n",
            "\n",
            "Метод Ньютона в первоначальной точке 0.5 с точностью до 0.0001:\n",
            "\n",
            "x = 0.71852\titerations = 4\n",
            "\n",
            "+----+---------+----------+---------+---------+\n",
            "|    |    X    |    F     |   df    |    ∆    |\n",
            "+====+=========+==========+=========+=========+\n",
            "| 0  |   0.5   | -0.30715 |  1.76   |    0    |\n",
            "+----+---------+----------+---------+---------+\n",
            "| 1  | 0.67452 | -0.30715 |  1.76   | 0.17452 |\n",
            "+----+---------+----------+---------+---------+\n",
            "| 2  | 0.71627 | -0.05019 | 1.20222 | 0.04175 |\n",
            "+----+---------+----------+---------+---------+\n",
            "| 3  | 0.71852 | -0.00245 | 1.08635 | 0.00225 |\n",
            "+----+---------+----------+---------+---------+\n",
            "| 4  | 0.71852 |  -1e-05  | 1.08033 |  1e-05  |\n",
            "+----+---------+----------+---------+---------+\n"
          ],
          "name": "stdout"
        }
      ]
    }
  ]
}