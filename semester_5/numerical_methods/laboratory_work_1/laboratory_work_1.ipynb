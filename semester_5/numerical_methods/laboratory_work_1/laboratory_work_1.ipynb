{
  "nbformat": 4,
  "nbformat_minor": 0,
  "metadata": {
    "colab": {
      "name": "laboratory_work_1.ipynb",
      "provenance": [],
      "collapsed_sections": []
    },
    "kernelspec": {
      "name": "python3",
      "display_name": "Python 3"
    }
  },
  "cells": [
    {
      "cell_type": "markdown",
      "metadata": {
        "id": "4vJ7i-u-z2us"
      },
      "source": [
        "# Лабораторная работа №1"
      ]
    },
    {
      "cell_type": "markdown",
      "metadata": {
        "id": "AHiDXhwDpdCG"
      },
      "source": [
        "## Вариант 20\n",
        "\n",
        "A: ![Screenshot 2020-09-29 at 2.02.27 AM.png](data:image/png;base64,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)\n",
        "\n",
        "B: ![Screenshot 2020-09-29 at 2.02.32 AM.png](data:image/png;base64,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)"
      ]
    },
    {
      "cell_type": "markdown",
      "metadata": {
        "id": "JN7GyZJ09tso"
      },
      "source": [
        "## Импорты"
      ]
    },
    {
      "cell_type": "code",
      "metadata": {
        "id": "bGSNlKKWSIiN"
      },
      "source": [
        "%%capture\n",
        "# Установка необходимых модулей\n",
        "!pip install --upgrade pip setuptools wheel\n",
        "!pip install numpy\n",
        "!pip install pandas\n",
        "!pip install matplotlib\n",
        "!pip install seaborn\n",
        "!pip install tabulate"
      ],
      "execution_count": 1,
      "outputs": []
    },
    {
      "cell_type": "code",
      "metadata": {
        "id": "J9hzhs7w9vd2"
      },
      "source": [
        "%%capture\n",
        "import numpy as np;\n",
        "import pandas as pd;\n",
        "\n",
        "from tabulate import tabulate;\n",
        "import matplotlib.pyplot as plt;\n",
        "import seaborn as sns;\n",
        "sns.set_style(\"whitegrid\");\n",
        "\n",
        "import typing;\n",
        "from dataclasses import dataclass;\n",
        "from functools import partial;\n",
        "import abc;"
      ],
      "execution_count": 2,
      "outputs": []
    },
    {
      "cell_type": "markdown",
      "metadata": {
        "id": "ggBIhTedDWRi"
      },
      "source": [
        "## Вспомогательные функции"
      ]
    },
    {
      "cell_type": "code",
      "metadata": {
        "id": "IdXKtNYnVBJO"
      },
      "source": [
        "@dataclass\n",
        "class LineSegment(object):\n",
        "    left_border: float\n",
        "    right_border: float\n",
        "\n",
        "    @property\n",
        "    def middle(self):\n",
        "        return np.mean([self.left_border, self.right_border])\n",
        "\n",
        "    def __str__(self):\n",
        "        left_border_format = ('%f' % self.left_border).rstrip('0').rstrip('.')\n",
        "        right_border_format = ('%f' % self.right_border).rstrip('0').rstrip('.')\n",
        "        return f\"[{left_border_format}, {right_border_format}]\""
      ],
      "execution_count": 3,
      "outputs": []
    },
    {
      "cell_type": "code",
      "metadata": {
        "id": "FKSPXgQQDaQ7"
      },
      "source": [
        "def draw_func(function: typing.Callable[[float], float], segment: LineSegment, interval: float):\n",
        "    x_ = np.arange(segment.left_border, segment.right_border, interval)\n",
        "\n",
        "    df = pd.DataFrame([[x, function(x)] for x in x_], columns=[\"x\", \"y\"]) \n",
        "    main_axes = pd.DataFrame(([[x, 0] \n",
        "                               for x in np.arange(segment.left_border, \n",
        "                                                  segment.right_border+1)]), \n",
        "                             columns=[\"x\", \"y\"])\n",
        "\n",
        "    plt.figure(figsize=(20,10))\n",
        "    plt.tight_layout()\n",
        "    sns.lineplot(data = df, x='x', y='y', color=\"red\")\n",
        "    sns.lineplot(data = main_axes, x='x', y='y', color=\"black\")\n",
        "\n",
        "    plt.savefig(\"./function_graph.png\", dpi=300)\n",
        "\n",
        "    plt.show()"
      ],
      "execution_count": 4,
      "outputs": []
    },
    {
      "cell_type": "markdown",
      "metadata": {
        "id": "4JptexLm9n_1"
      },
      "source": [
        "## Алгоритмы"
      ]
    },
    {
      "cell_type": "code",
      "metadata": {
        "id": "RNwdl7q2-lA8"
      },
      "source": [
        "def func_A(x: float):\n",
        "    return x*np.sqrt(x/(4-x));\n",
        "\n",
        "def func_B(x: float):\n",
        "    return 5*np.sin(x);\n",
        "\n",
        "def func(x: float):\n",
        "    return func_A(x) - func_B(x);\n",
        "\n",
        "def derivative_func(x: float):\n",
        "    func_A_derivative = (x*(6-x))/(np.sqrt(x/(4-x))*(x-4)**2)\n",
        "    func_B_derivative = 5*np.cos(x);\n",
        "    return func_A_derivative - func_B_derivative;"
      ],
      "execution_count": 5,
      "outputs": []
    },
    {
      "cell_type": "code",
      "metadata": {
        "id": "DuzxAL-RiMwp"
      },
      "source": [
        "class Method(abc.ABC):\n",
        "    def __init__(self, method: str, method_name: str,\n",
        "                 function: typing.Callable[[float], float],\n",
        "                 segment: LineSegment,\n",
        "                 epsilons: typing.List[float]\n",
        "                 ):\n",
        "        self.method = method\n",
        "        self.method_name = method_name\n",
        "        self.function = function\n",
        "        self.segment = segment\n",
        "        if not isinstance(epsilons, list):\n",
        "            epsilons = list(epsilons)\n",
        "        self.epsilons = epsilons\n",
        "    \n",
        "    @property\n",
        "    @abc.abstractmethod\n",
        "    def dataframe(self) -> pd.DataFrame:\n",
        "        pass\n",
        "\n",
        "    @abc.abstractmethod\n",
        "    def solve(self, epsilon: float) -> typing.Tuple[float, pd.DataFrame]:\n",
        "        pass\n",
        "\n",
        "    @staticmethod\n",
        "    def get_round_base(epsilon: float):\n",
        "        return abs(round(np.math.log(epsilon, 10)))\n",
        "\n",
        "    def find_solution(self):\n",
        "        for index, epsilon in enumerate(self.epsilons):\n",
        "            if index != 0:\n",
        "                print(\"\\n#{0:-^78}#\\n\".format(\"-\"))\n",
        "            result, df = self.solve(epsilon)\n",
        "            self.print_dataframe(result, df, epsilon)\n",
        "\n",
        "    def print_dataframe(self, result: float, df: pd.DataFrame, epsilon: float):\n",
        "        df.index = df.index + 1\n",
        "\n",
        "        print(f\"{self.method_name} на отрезке {self.segment} с точностью до {epsilon}:\")\n",
        "\n",
        "        print()\n",
        "        print(f\"x = {round(result, self.get_round_base(epsilon)+1)}\", \n",
        "              f\"iterations = {len(df)}\", sep=\"\\t\")\n",
        "        print()\n",
        "\n",
        "        with pd.option_context('display.max_rows', None, \n",
        "                               'display.max_columns', None): \n",
        "            print(df.to_markdown(tablefmt=\"grid\", numalign=\"center\"))\n",
        "            df.to_excel(f\"./lab1_{self.method}_{epsilon}.xlsx\")"
      ],
      "execution_count": 6,
      "outputs": []
    },
    {
      "cell_type": "code",
      "metadata": {
        "id": "SkYAbbKtlQ_1"
      },
      "source": [
        "class BisectionMethod(Method):\n",
        "    def __init__(self, function: typing.Callable[[float], float],\n",
        "                 segment: LineSegment,\n",
        "                 epsilons: typing.List[float]):\n",
        "        super().__init__(method=\"bisection\", method_name=\"Метод бисекции\",\n",
        "                         function=function, segment=segment, epsilons=epsilons)\n",
        "\n",
        "    @property\n",
        "    def dataframe(self) -> pd.DataFrame:\n",
        "        return pd.DataFrame(columns=['X_left', 'f(X_left)',\n",
        "                                     'X_right', 'f(X_right)', '∆'])\n",
        "\n",
        "    def solve(self, epsilon: float) -> typing.Tuple[float, pd.DataFrame]:\n",
        "        df = self.dataframe\n",
        "\n",
        "        (x1, x2) = (self.segment.left_border, self.segment.right_border)\n",
        "        f1 = self.function(x1)\n",
        "        f2 = self.function(x2)\n",
        "        del_x = abs(x2 - x1)\n",
        "        round_base = self.get_round_base(epsilon)\n",
        "\n",
        "        middle = 0\n",
        "        while del_x > epsilon:\n",
        "            df.loc[len(df)] = (list(map(lambda x: \n",
        "                                        round(x, round_base+1), \n",
        "                                        [x1, f1, x2, f2, del_x])))\n",
        "            middle = (x2+x1)/2\n",
        "            f_middle = self.function(middle)\n",
        "            if f_middle * f1 < 0:\n",
        "                x2 = middle\n",
        "                f2 = f_middle\n",
        "            else:\n",
        "                x1 = middle\n",
        "                f1 = f_middle\n",
        "            del_x = abs(x2-x1)\n",
        "            \n",
        "        df.loc[len(df)] = (list(map(lambda x: \n",
        "                                    round(x, round_base+1), \n",
        "                                    [x1, f1, x2, f2, del_x])))\n",
        "        result = middle\n",
        "        return (result, df)"
      ],
      "execution_count": 7,
      "outputs": []
    },
    {
      "cell_type": "code",
      "metadata": {
        "id": "69EurPEAqU72"
      },
      "source": [
        "class SecantMethod(Method):\n",
        "    def __init__(self, function: typing.Callable[[float], float],\n",
        "                 segment: LineSegment,\n",
        "                 epsilons: typing.List[float]):\n",
        "        super().__init__(method=\"secant\", method_name=\"Метод секущих\",\n",
        "                         function=function, segment=segment, epsilons=epsilons)\n",
        "\n",
        "    @property\n",
        "    def dataframe(self) -> pd.DataFrame:\n",
        "        return pd.DataFrame(columns=['X_left', 'f(X_left)',\n",
        "                                     'X_right', 'f(X_right)', '∆'])\n",
        "\n",
        "    def solve(self, epsilon: float) -> typing.Tuple[float, pd.DataFrame]:\n",
        "        df = self.dataframe\n",
        "\n",
        "        (x1, x2) = (self.segment.left_border, self.segment.right_border)\n",
        "        f1 = self.function(x1)\n",
        "        f2 = self.function(x2)\n",
        "        del_x = abs(x2 - x1)\n",
        "        round_base = self.get_round_base(epsilon)\n",
        "\n",
        "        middle = 0\n",
        "        iter_array = []\n",
        "        while del_x > epsilon:\n",
        "            df.loc[len(df)] = (list(map(lambda x: round(x, round_base+1), \n",
        "                                        [x1, f1, x2, f2, del_x])))\n",
        "            middle = x2 * f1/(f1-f2) + x1 * f2/(f2-f1)\n",
        "            f_middle = self.function(middle)\n",
        "            x1 = x2\n",
        "            f1 = f2\n",
        "            x2 = middle\n",
        "            f2 = f_middle\n",
        "            del_x = abs(x2-x1)\n",
        "            \n",
        "        df.loc[len(df)] = (list(map(lambda x: \n",
        "                                    round(x, round_base+1),\n",
        "                                    [x1, f1, x2, f2, del_x])))\n",
        "                \n",
        "        result = middle\n",
        "        return (result, df)"
      ],
      "execution_count": 8,
      "outputs": []
    },
    {
      "cell_type": "code",
      "metadata": {
        "id": "RIbCjYnGtnYZ"
      },
      "source": [
        "class FalsePositionMethod(Method):\n",
        "    def __init__(self, function: typing.Callable[[float], float],\n",
        "                 segment: LineSegment,\n",
        "                 epsilons: typing.List[float]):\n",
        "        super().__init__(method=\"false_position\", \n",
        "                         method_name=\"Метод ложной позиции\",\n",
        "                         function=function, segment=segment, epsilons=epsilons)\n",
        "\n",
        "    @property\n",
        "    def dataframe(self) -> pd.DataFrame:\n",
        "        return pd.DataFrame(columns=['X_left', 'f(X_left)',\n",
        "                                     'X_right', 'f(X_right)', '∆'])\n",
        "\n",
        "    def solve(self, epsilon: float) -> typing.Tuple[float, pd.DataFrame]:\n",
        "        df = self.dataframe\n",
        "\n",
        "        (x1, x2) = (self.segment.left_border, self.segment.right_border)\n",
        "        f1 = self.function(x1)\n",
        "        f2 = self.function(x2)\n",
        "        del_x = abs(x2 - x1)\n",
        "        round_base = self.get_round_base(epsilon)\n",
        "\n",
        "        middle = 0\n",
        "        while del_x > epsilon:\n",
        "            df.loc[len(df)] = (list(map(lambda x: round(x, round_base+1), \n",
        "                                        [x1, f1, x2, f2, del_x])))\n",
        "            middle = x2 * f1/(f1-f2) + x1 * f2/(f2-f1)\n",
        "            f_middle = self.function(middle)\n",
        "            if f_middle * f1 > 0:\n",
        "                del_x = middle - x1\n",
        "                x1 = middle\n",
        "                f1 = f_middle\n",
        "            else:\n",
        "                del_x = x2- middle\n",
        "                x2 = middle\n",
        "                f2 = f_middle\n",
        "                \n",
        "        df.loc[len(df)] = (list(map(lambda x: \n",
        "                                    round(x, round_base+1), \n",
        "                                    [x1, f1, x2, f2, del_x])))\n",
        "                \n",
        "        result = middle\n",
        "        return (result, df)"
      ],
      "execution_count": 9,
      "outputs": []
    },
    {
      "cell_type": "code",
      "metadata": {
        "id": "LMlPoqQEw6D2"
      },
      "source": [
        "class NewtonMethod(Method):\n",
        "    def __init__(self, \n",
        "                 function: typing.Callable[[float], float],\n",
        "                 derivative_function: typing.Callable[[float], float],\n",
        "                 segment: LineSegment, \n",
        "                 epsilons: typing.List[float]\n",
        "                 ):\n",
        "        super().__init__(method=\"newton\", method_name=\"Метод Ньютона\", \n",
        "                         function=function, segment=segment, epsilons=epsilons)\n",
        "        self.derivative_function = derivative_function\n",
        "\n",
        "    @property\n",
        "    def dataframe(self) -> pd.DataFrame:\n",
        "        return pd.DataFrame(columns=['X', 'F', \"df\", '∆'])\n",
        "\n",
        "    def solve(self, epsilon: float) -> typing.Tuple[float, pd.DataFrame]:\n",
        "        df = self.dataframe\n",
        "\n",
        "        x = self.segment.middle\n",
        "        del_x = epsilon*2\n",
        "        f1 = self.function(x)\n",
        "        df1 = self.derivative_function(x)\n",
        "        round_base = self.get_round_base(epsilon)\n",
        "        df.loc[len(df)] = (list(map(lambda k: round(k, round_base+1), \n",
        "                                        [x, f1, df1, 0])))\n",
        "\n",
        "        iter_array = []\n",
        "        while del_x > epsilon:\n",
        "            f1 = self.function(x)\n",
        "            df1 = self.derivative_function(x)\n",
        "            x_ = x - f1/df1\n",
        "            del_x = abs(x_-x)\n",
        "            x = x_\n",
        "            df.loc[len(df)] = (list(map(lambda k: round(k, round_base+1), \n",
        "                                        [x, f1, df1, del_x])))\n",
        "            \n",
        "        result = x\n",
        "        return (result, df)\n",
        "\n",
        "    def print_dataframe(self, result: float, df: pd.DataFrame, epsilon: float):\n",
        "        print(f\"{self.method_name} в первоначальной точке {self.segment.middle} с точностью до {epsilon}:\")\n",
        "\n",
        "        print()\n",
        "        print(f\"x = {round(result, self.get_round_base(epsilon)+1)}\", \n",
        "              f\"iterations = {len(df)-1}\", sep=\"\\t\")\n",
        "        print()\n",
        "\n",
        "        with pd.option_context('display.max_rows', None, \n",
        "                               'display.max_columns', None): \n",
        "            print(df.to_markdown(tablefmt=\"grid\", numalign=\"center\"))\n",
        "            df.to_excel(f\"./lab1_{self.method}_{epsilon}.xlsx\")"
      ],
      "execution_count": 10,
      "outputs": []
    },
    {
      "cell_type": "markdown",
      "metadata": {
        "id": "FdfZN7XWEAS9"
      },
      "source": [
        "## Выполнение лабораторной работы"
      ]
    },
    {
      "cell_type": "markdown",
      "metadata": {
        "id": "v0uLk5Q3pPNu"
      },
      "source": [
        "### Исследование функции"
      ]
    },
    {
      "cell_type": "code",
      "metadata": {
        "id": "-6eR4jbCMfsN"
      },
      "source": [
        "# Точности по перменной\n",
        "epsilon = [0.01, 0.001, 0.0001]"
      ],
      "execution_count": 11,
      "outputs": []
    },
    {
      "cell_type": "code",
      "metadata": {
        "id": "Um2lKA1gThDd"
      },
      "source": [
        "# Выбираем отрезок [pi/2, pi]\n",
        "segment = LineSegment(np.pi/2, np.pi)"
      ],
      "execution_count": 12,
      "outputs": []
    },
    {
      "cell_type": "code",
      "metadata": {
        "id": "W_8BkOgpD-RK",
        "outputId": "f8a125b8-4947-43e6-bcee-a142185139eb",
        "colab": {
          "base_uri": "https://localhost:8080/",
          "height": 380
        }
      },
      "source": [
        "# Нарисуем график функции на отрезке [pi/2, pi]\n",
        "draw_func(function=func, segment=segment, interval=0.0001)"
      ],
      "execution_count": 13,
      "outputs": [
        {
          "output_type": "display_data",
          "data": {
            "image/png": "[encoded data removed]",
            "text/plain": [
              "<Figure size 1440x720 with 1 Axes>"
            ]
          },
          "metadata": {
            "tags": []
          }
        }
      ]
    },
    {
      "cell_type": "markdown",
      "metadata": {
        "id": "nCjgPOg4LkPE"
      },
      "source": [
        "### 1. Метод бисекции"
      ]
    },
    {
      "cell_type": "code",
      "metadata": {
        "id": "IssARzlgITt6",
        "outputId": "76d26dbf-9190-4c29-9fd9-c6026d6e3057",
        "colab": {
          "base_uri": "https://localhost:8080/",
          "height": 1000
        }
      },
      "source": [
        "bisection_method = BisectionMethod(func, segment, epsilon)\n",
        "bisection_method.find_solution()"
      ],
      "execution_count": 14,
      "outputs": [
        {
          "output_type": "stream",
          "text": [
            "Метод бисекции на отрезке [1.570796, 3.141593] с точностью до 0.01:\n",
            "\n",
            "x = 2.461\titerations = 9\n",
            "\n",
            "+----+----------+-------------+-----------+--------------+-------+\n",
            "|    |  X_left  |  f(X_left)  |  X_right  |  f(X_right)  |   ∆   |\n",
            "+====+==========+=============+===========+==============+=======+\n",
            "| 1  |  1.571   |   -3.737    |   3.142   |     6.01     | 1.571 |\n",
            "+----+----------+-------------+-----------+--------------+-------+\n",
            "| 2  |  2.356   |   -0.715    |   3.142   |     6.01     | 0.785 |\n",
            "+----+----------+-------------+-----------+--------------+-------+\n",
            "| 3  |  2.356   |   -0.715    |   2.749   |    2.161     | 0.393 |\n",
            "+----+----------+-------------+-----------+--------------+-------+\n",
            "| 4  |  2.356   |   -0.715    |   2.553   |    0.612     | 0.196 |\n",
            "+----+----------+-------------+-----------+--------------+-------+\n",
            "| 5  |  2.454   |   -0.079    |   2.553   |    0.612     | 0.098 |\n",
            "+----+----------+-------------+-----------+--------------+-------+\n",
            "| 6  |  2.454   |   -0.079    |   2.503   |    0.259     | 0.049 |\n",
            "+----+----------+-------------+-----------+--------------+-------+\n",
            "| 7  |  2.454   |   -0.079    |   2.479   |    0.088     | 0.025 |\n",
            "+----+----------+-------------+-----------+--------------+-------+\n",
            "| 8  |  2.454   |   -0.079    |   2.467   |    0.004     | 0.012 |\n",
            "+----+----------+-------------+-----------+--------------+-------+\n",
            "| 9  |  2.461   |   -0.038    |   2.467   |    0.004     | 0.006 |\n",
            "+----+----------+-------------+-----------+--------------+-------+\n",
            "\n",
            "#------------------------------------------------------------------------------#\n",
            "\n",
            "Метод бисекции на отрезке [1.570796, 3.141593] с точностью до 0.001:\n",
            "\n",
            "x = 2.4659\titerations = 12\n",
            "\n",
            "+----+----------+-------------+-----------+--------------+--------+\n",
            "|    |  X_left  |  f(X_left)  |  X_right  |  f(X_right)  |   ∆    |\n",
            "+====+==========+=============+===========+==============+========+\n",
            "| 1  |  1.5708  |   -3.7369   |  3.1416   |    6.0101    | 1.5708 |\n",
            "+----+----------+-------------+-----------+--------------+--------+\n",
            "| 2  |  2.3562  |   -0.7146   |  3.1416   |    6.0101    | 0.7854 |\n",
            "+----+----------+-------------+-----------+--------------+--------+\n",
            "| 3  |  2.3562  |   -0.7146   |  2.7489   |    2.1612    | 0.3927 |\n",
            "+----+----------+-------------+-----------+--------------+--------+\n",
            "| 4  |  2.3562  |   -0.7146   |  2.5525   |    0.6118    | 0.1963 |\n",
            "+----+----------+-------------+-----------+--------------+--------+\n",
            "| 5  |  2.4544  |   -0.0791   |  2.5525   |    0.6118    | 0.0982 |\n",
            "+----+----------+-------------+-----------+--------------+--------+\n",
            "| 6  |  2.4544  |   -0.0791   |  2.5035   |    0.2594    | 0.0491 |\n",
            "+----+----------+-------------+-----------+--------------+--------+\n",
            "| 7  |  2.4544  |   -0.0791   |  2.4789   |    0.0884    | 0.0245 |\n",
            "+----+----------+-------------+-----------+--------------+--------+\n",
            "| 8  |  2.4544  |   -0.0791   |  2.4666   |    0.0042    | 0.0123 |\n",
            "+----+----------+-------------+-----------+--------------+--------+\n",
            "| 9  |  2.4605  |   -0.0376   |  2.4666   |    0.0042    | 0.0061 |\n",
            "+----+----------+-------------+-----------+--------------+--------+\n",
            "| 10 |  2.4636  |   -0.0167   |  2.4666   |    0.0042    | 0.0031 |\n",
            "+----+----------+-------------+-----------+--------------+--------+\n",
            "| 11 |  2.4651  |   -0.0063   |  2.4666   |    0.0042    | 0.0015 |\n",
            "+----+----------+-------------+-----------+--------------+--------+\n",
            "| 12 |  2.4659  |   -0.001    |  2.4666   |    0.0042    | 0.0008 |\n",
            "+----+----------+-------------+-----------+--------------+--------+\n",
            "\n",
            "#------------------------------------------------------------------------------#\n",
            "\n",
            "Метод бисекции на отрезке [1.570796, 3.141593] с точностью до 0.0001:\n",
            "\n",
            "x = 2.46597\titerations = 15\n",
            "\n",
            "+----+----------+-------------+-----------+--------------+---------+\n",
            "|    |  X_left  |  f(X_left)  |  X_right  |  f(X_right)  |    ∆    |\n",
            "+====+==========+=============+===========+==============+=========+\n",
            "| 1  |  1.5708  |  -3.73687   |  3.14159  |   6.01005    | 1.5708  |\n",
            "+----+----------+-------------+-----------+--------------+---------+\n",
            "| 2  | 2.35619  |  -0.71461   |  3.14159  |   6.01005    | 0.7854  |\n",
            "+----+----------+-------------+-----------+--------------+---------+\n",
            "| 3  | 2.35619  |  -0.71461   |  2.74889  |   2.16123    | 0.3927  |\n",
            "+----+----------+-------------+-----------+--------------+---------+\n",
            "| 4  | 2.35619  |  -0.71461   |  2.55254  |   0.61182    | 0.19635 |\n",
            "+----+----------+-------------+-----------+--------------+---------+\n",
            "| 5  | 2.45437  |  -0.07913   |  2.55254  |   0.61182    | 0.09817 |\n",
            "+----+----------+-------------+-----------+--------------+---------+\n",
            "| 6  | 2.45437  |  -0.07913   |  2.50346  |   0.25942    | 0.04909 |\n",
            "+----+----------+-------------+-----------+--------------+---------+\n",
            "| 7  | 2.45437  |  -0.07913   |  2.47891  |   0.08841    | 0.02454 |\n",
            "+----+----------+-------------+-----------+--------------+---------+\n",
            "| 8  | 2.45437  |  -0.07913   |  2.46664  |   0.00421    | 0.01227 |\n",
            "+----+----------+-------------+-----------+--------------+---------+\n",
            "| 9  | 2.46051  |  -0.03757   |  2.46664  |   0.00421    | 0.00614 |\n",
            "+----+----------+-------------+-----------+--------------+---------+\n",
            "| 10 | 2.46357  |  -0.01671   |  2.46664  |   0.00421    | 0.00307 |\n",
            "+----+----------+-------------+-----------+--------------+---------+\n",
            "| 11 | 2.46511  |  -0.00626   |  2.46664  |   0.00421    | 0.00153 |\n",
            "+----+----------+-------------+-----------+--------------+---------+\n",
            "| 12 | 2.46587  |  -0.00103   |  2.46664  |   0.00421    | 0.00077 |\n",
            "+----+----------+-------------+-----------+--------------+---------+\n",
            "| 13 | 2.46587  |  -0.00103   |  2.46626  |   0.00159    | 0.00038 |\n",
            "+----+----------+-------------+-----------+--------------+---------+\n",
            "| 14 | 2.46587  |  -0.00103   |  2.46607  |   0.00028    | 0.00019 |\n",
            "+----+----------+-------------+-----------+--------------+---------+\n",
            "| 15 | 2.46597  |  -0.00037   |  2.46607  |   0.00028    | 0.0001  |\n",
            "+----+----------+-------------+-----------+--------------+---------+\n"
          ],
          "name": "stdout"
        }
      ]
    },
    {
      "cell_type": "markdown",
      "metadata": {
        "id": "KMQeOunKQyD7"
      },
      "source": [
        "### 2. Метод секущих"
      ]
    },
    {
      "cell_type": "code",
      "metadata": {
        "id": "3MWf944Phs0i",
        "outputId": "753fb3a6-feb7-45c1-cae3-28cc52d751de",
        "colab": {
          "base_uri": "https://localhost:8080/",
          "height": 1000
        }
      },
      "source": [
        "secant_method = SecantMethod(func, segment, epsilon)\n",
        "secant_method.find_solution()"
      ],
      "execution_count": 15,
      "outputs": [
        {
          "output_type": "stream",
          "text": [
            "Метод секущих на отрезке [1.570796, 3.141593] с точностью до 0.01:\n",
            "\n",
            "x = 2.466\titerations = 6\n",
            "\n",
            "+----+----------+-------------+-----------+--------------+-------+\n",
            "|    |  X_left  |  f(X_left)  |  X_right  |  f(X_right)  |   ∆   |\n",
            "+====+==========+=============+===========+==============+=======+\n",
            "| 1  |  1.571   |   -3.737    |   3.142   |     6.01     | 1.571 |\n",
            "+----+----------+-------------+-----------+--------------+-------+\n",
            "| 2  |  3.142   |    6.01     |   2.173   |    -1.75     | 0.969 |\n",
            "+----+----------+-------------+-----------+--------------+-------+\n",
            "| 3  |  2.173   |    -1.75    |   2.391   |    -0.493    | 0.218 |\n",
            "+----+----------+-------------+-----------+--------------+-------+\n",
            "| 4  |  2.391   |   -0.493    |   2.477   |    0.075     | 0.086 |\n",
            "+----+----------+-------------+-----------+--------------+-------+\n",
            "| 5  |  2.477   |    0.075    |   2.466   |    -0.002    | 0.011 |\n",
            "+----+----------+-------------+-----------+--------------+-------+\n",
            "| 6  |  2.466   |   -0.002    |   2.466   |      -0      |   0   |\n",
            "+----+----------+-------------+-----------+--------------+-------+\n",
            "\n",
            "#------------------------------------------------------------------------------#\n",
            "\n",
            "Метод секущих на отрезке [1.570796, 3.141593] с точностью до 0.001:\n",
            "\n",
            "x = 2.466\titerations = 6\n",
            "\n",
            "+----+----------+-------------+-----------+--------------+--------+\n",
            "|    |  X_left  |  f(X_left)  |  X_right  |  f(X_right)  |   ∆    |\n",
            "+====+==========+=============+===========+==============+========+\n",
            "| 1  |  1.5708  |   -3.7369   |  3.1416   |    6.0101    | 1.5708 |\n",
            "+----+----------+-------------+-----------+--------------+--------+\n",
            "| 2  |  3.1416  |   6.0101    |   2.173   |   -1.7505    | 0.9686 |\n",
            "+----+----------+-------------+-----------+--------------+--------+\n",
            "| 3  |  2.173   |   -1.7505   |  2.3915   |   -0.4925    | 0.2185 |\n",
            "+----+----------+-------------+-----------+--------------+--------+\n",
            "| 4  |  2.3915  |   -0.4925   |   2.477   |    0.0754    | 0.0855 |\n",
            "+----+----------+-------------+-----------+--------------+--------+\n",
            "| 5  |  2.477   |   0.0754    |  2.4657   |   -0.0024    | 0.0114 |\n",
            "+----+----------+-------------+-----------+--------------+--------+\n",
            "| 6  |  2.4657  |   -0.0024   |   2.466   |      -0      | 0.0004 |\n",
            "+----+----------+-------------+-----------+--------------+--------+\n",
            "\n",
            "#------------------------------------------------------------------------------#\n",
            "\n",
            "Метод секущих на отрезке [1.570796, 3.141593] с точностью до 0.0001:\n",
            "\n",
            "x = 2.46602\titerations = 7\n",
            "\n",
            "+----+----------+-------------+-----------+--------------+---------+\n",
            "|    |  X_left  |  f(X_left)  |  X_right  |  f(X_right)  |    ∆    |\n",
            "+====+==========+=============+===========+==============+=========+\n",
            "| 1  |  1.5708  |  -3.73687   |  3.14159  |   6.01005    | 1.5708  |\n",
            "+----+----------+-------------+-----------+--------------+---------+\n",
            "| 2  | 3.14159  |   6.01005   |  2.17302  |   -1.75048   | 0.96857 |\n",
            "+----+----------+-------------+-----------+--------------+---------+\n",
            "| 3  | 2.17302  |  -1.75048   |  2.3915   |   -0.49251   | 0.21847 |\n",
            "+----+----------+-------------+-----------+--------------+---------+\n",
            "| 4  |  2.3915  |  -0.49251   |  2.47703  |   0.07544    | 0.08553 |\n",
            "+----+----------+-------------+-----------+--------------+---------+\n",
            "| 5  | 2.47703  |   0.07544   |  2.46567  |   -0.00242   | 0.01136 |\n",
            "+----+----------+-------------+-----------+--------------+---------+\n",
            "| 6  | 2.46567  |  -0.00242   |  2.46602  |    -1e-05    | 0.00035 |\n",
            "+----+----------+-------------+-----------+--------------+---------+\n",
            "| 7  | 2.46602  |   -1e-05    |  2.46602  |      0       |    0    |\n",
            "+----+----------+-------------+-----------+--------------+---------+\n"
          ],
          "name": "stdout"
        }
      ]
    },
    {
      "cell_type": "markdown",
      "metadata": {
        "id": "EnpsUpY_Q_tj"
      },
      "source": [
        "### 3. Метод ложной позиции"
      ]
    },
    {
      "cell_type": "code",
      "metadata": {
        "id": "Bu6ZX5uihxlt",
        "outputId": "9900c46e-acd7-488b-dcc6-531344881a96",
        "colab": {
          "base_uri": "https://localhost:8080/",
          "height": 1000
        }
      },
      "source": [
        "false_position_method = FalsePositionMethod(func, segment, epsilon)\n",
        "false_position_method.find_solution()"
      ],
      "execution_count": 16,
      "outputs": [
        {
          "output_type": "stream",
          "text": [
            "Метод ложной позиции на отрезке [1.570796, 3.141593] с точностью до 0.01:\n",
            "\n",
            "x = 2.465\titerations = 6\n",
            "\n",
            "+----+----------+-------------+-----------+--------------+-------+\n",
            "|    |  X_left  |  f(X_left)  |  X_right  |  f(X_right)  |   ∆   |\n",
            "+====+==========+=============+===========+==============+=======+\n",
            "| 1  |  1.571   |   -3.737    |   3.142   |     6.01     | 1.571 |\n",
            "+----+----------+-------------+-----------+--------------+-------+\n",
            "| 2  |  2.173   |    -1.75    |   3.142   |     6.01     | 0.602 |\n",
            "+----+----------+-------------+-----------+--------------+-------+\n",
            "| 3  |  2.391   |   -0.493    |   3.142   |     6.01     | 0.218 |\n",
            "+----+----------+-------------+-----------+--------------+-------+\n",
            "| 4  |  2.448   |    -0.12    |   3.142   |     6.01     | 0.057 |\n",
            "+----+----------+-------------+-----------+--------------+-------+\n",
            "| 5  |  2.462   |   -0.028    |   3.142   |     6.01     | 0.014 |\n",
            "+----+----------+-------------+-----------+--------------+-------+\n",
            "| 6  |  2.465   |   -0.007    |   3.142   |     6.01     | 0.003 |\n",
            "+----+----------+-------------+-----------+--------------+-------+\n",
            "\n",
            "#------------------------------------------------------------------------------#\n",
            "\n",
            "Метод ложной позиции на отрезке [1.570796, 3.141593] с точностью до 0.001:\n",
            "\n",
            "x = 2.4658\titerations = 7\n",
            "\n",
            "+----+----------+-------------+-----------+--------------+--------+\n",
            "|    |  X_left  |  f(X_left)  |  X_right  |  f(X_right)  |   ∆    |\n",
            "+====+==========+=============+===========+==============+========+\n",
            "| 1  |  1.5708  |   -3.7369   |  3.1416   |    6.0101    | 1.5708 |\n",
            "+----+----------+-------------+-----------+--------------+--------+\n",
            "| 2  |  2.173   |   -1.7505   |  3.1416   |    6.0101    | 0.6022 |\n",
            "+----+----------+-------------+-----------+--------------+--------+\n",
            "| 3  |  2.3915  |   -0.4925   |  3.1416   |    6.0101    | 0.2185 |\n",
            "+----+----------+-------------+-----------+--------------+--------+\n",
            "| 4  |  2.4483  |    -0.12    |  3.1416   |    6.0101    | 0.0568 |\n",
            "+----+----------+-------------+-----------+--------------+--------+\n",
            "| 5  |  2.4619  |   -0.0282   |  3.1416   |    6.0101    | 0.0136 |\n",
            "+----+----------+-------------+-----------+--------------+--------+\n",
            "| 6  |  2.4651  |   -0.0066   |  3.1416   |    6.0101    | 0.0032 |\n",
            "+----+----------+-------------+-----------+--------------+--------+\n",
            "| 7  |  2.4658  |   -0.0015   |  3.1416   |    6.0101    | 0.0007 |\n",
            "+----+----------+-------------+-----------+--------------+--------+\n",
            "\n",
            "#------------------------------------------------------------------------------#\n",
            "\n",
            "Метод ложной позиции на отрезке [1.570796, 3.141593] с точностью до 0.0001:\n",
            "\n",
            "x = 2.46601\titerations = 9\n",
            "\n",
            "+----+----------+-------------+-----------+--------------+---------+\n",
            "|    |  X_left  |  f(X_left)  |  X_right  |  f(X_right)  |    ∆    |\n",
            "+====+==========+=============+===========+==============+=========+\n",
            "| 1  |  1.5708  |  -3.73687   |  3.14159  |   6.01005    | 1.5708  |\n",
            "+----+----------+-------------+-----------+--------------+---------+\n",
            "| 2  | 2.17302  |  -1.75048   |  3.14159  |   6.01005    | 0.60223 |\n",
            "+----+----------+-------------+-----------+--------------+---------+\n",
            "| 3  |  2.3915  |  -0.49251   |  3.14159  |   6.01005    | 0.21847 |\n",
            "+----+----------+-------------+-----------+--------------+---------+\n",
            "| 4  | 2.44831  |  -0.11997   |  3.14159  |   6.01005    | 0.05681 |\n",
            "+----+----------+-------------+-----------+--------------+---------+\n",
            "| 5  | 2.46188  |  -0.02825   |  3.14159  |   6.01005    | 0.01357 |\n",
            "+----+----------+-------------+-----------+--------------+---------+\n",
            "| 6  | 2.46506  |   -0.0066   |  3.14159  |   6.01005    | 0.00318 |\n",
            "+----+----------+-------------+-----------+--------------+---------+\n",
            "| 7  |  2.4658  |  -0.00154   |  3.14159  |   6.01005    | 0.00074 |\n",
            "+----+----------+-------------+-----------+--------------+---------+\n",
            "| 8  | 2.46597  |  -0.00036   |  3.14159  |   6.01005    | 0.00017 |\n",
            "+----+----------+-------------+-----------+--------------+---------+\n",
            "| 9  | 2.46601  |   -8e-05    |  3.14159  |   6.01005    |  4e-05  |\n",
            "+----+----------+-------------+-----------+--------------+---------+\n"
          ],
          "name": "stdout"
        }
      ]
    },
    {
      "cell_type": "markdown",
      "metadata": {
        "id": "Jq1edAgFRKoI"
      },
      "source": [
        "### 4. Метод Ньютона"
      ]
    },
    {
      "cell_type": "code",
      "metadata": {
        "id": "IemfJ9ZNh3F_",
        "outputId": "f428ca19-10eb-43b9-9668-fad596d6b310",
        "colab": {
          "base_uri": "https://localhost:8080/",
          "height": 850
        }
      },
      "source": [
        "newton_method = NewtonMethod(func, derivative_func, segment, epsilon)\n",
        "newton_method.find_solution()"
      ],
      "execution_count": 17,
      "outputs": [
        {
          "output_type": "stream",
          "text": [
            "Метод Ньютона в первоначальной точке 2.356194490192345 с точностью до 0.01:\n",
            "\n",
            "x = 2.466\titerations = 2\n",
            "\n",
            "+----+-------+--------+-------+-------+\n",
            "|    |   X   |   F    |  df   |   ∆   |\n",
            "+====+=======+========+=======+=======+\n",
            "| 0  | 2.356 | -0.715 | 6.189 |   0   |\n",
            "+----+-------+--------+-------+-------+\n",
            "| 1  | 2.472 | -0.715 | 6.189 | 0.115 |\n",
            "+----+-------+--------+-------+-------+\n",
            "| 2  | 2.466 | 0.038  | 6.855 | 0.006 |\n",
            "+----+-------+--------+-------+-------+\n",
            "\n",
            "#------------------------------------------------------------------------------#\n",
            "\n",
            "Метод Ньютона в первоначальной точке 2.356194490192345 с точностью до 0.001:\n",
            "\n",
            "x = 2.466\titerations = 3\n",
            "\n",
            "+----+--------+---------+--------+--------+\n",
            "|    |   X    |    F    |   df   |   ∆    |\n",
            "+====+========+=========+========+========+\n",
            "| 0  | 2.3562 | -0.7146 | 6.1894 |   0    |\n",
            "+----+--------+---------+--------+--------+\n",
            "| 1  | 2.4717 | -0.7146 | 6.1894 | 0.1155 |\n",
            "+----+--------+---------+--------+--------+\n",
            "| 2  | 2.466  | 0.0385  | 6.8551 | 0.0056 |\n",
            "+----+--------+---------+--------+--------+\n",
            "| 3  | 2.466  | 0.0001  | 6.8229 |   0    |\n",
            "+----+--------+---------+--------+--------+\n",
            "\n",
            "#------------------------------------------------------------------------------#\n",
            "\n",
            "Метод Ньютона в первоначальной точке 2.356194490192345 с точностью до 0.0001:\n",
            "\n",
            "x = 2.46602\titerations = 3\n",
            "\n",
            "+----+---------+----------+---------+---------+\n",
            "|    |    X    |    F     |   df    |    ∆    |\n",
            "+====+=========+==========+=========+=========+\n",
            "| 0  | 2.35619 | -0.71461 | 6.18944 |    0    |\n",
            "+----+---------+----------+---------+---------+\n",
            "| 1  | 2.47165 | -0.71461 | 6.18944 | 0.11546 |\n",
            "+----+---------+----------+---------+---------+\n",
            "| 2  | 2.46604 | 0.03848  | 6.85512 | 0.00561 |\n",
            "+----+---------+----------+---------+---------+\n",
            "| 3  | 2.46602 |  9e-05   | 6.82285 |  1e-05  |\n",
            "+----+---------+----------+---------+---------+\n"
          ],
          "name": "stdout"
        }
      ]
    }
  ]
}